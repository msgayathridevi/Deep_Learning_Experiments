{
  "cells": [
    {
      "cell_type": "code",
      "execution_count": null,
      "metadata": {
        "colab": {
          "base_uri": "https://localhost:8080/"
        },
        "id": "usAxRd80DCnB",
        "outputId": "bb84359f-affb-461c-81bd-232093e8a307"
      },
      "outputs": [
        {
          "name": "stdout",
          "output_type": "stream",
          "text": [
            "Mounted at /content/drive\n"
          ]
        }
      ],
      "source": [
        "from google.colab import drive\n",
        "drive.mount('/content/drive')"
      ]
    },
    {
      "cell_type": "code",
      "execution_count": null,
      "metadata": {
        "execution": {
          "iopub.execute_input": "2022-04-08T10:12:27.095984Z",
          "iopub.status.busy": "2022-04-08T10:12:27.095787Z",
          "iopub.status.idle": "2022-04-08T10:12:27.101297Z",
          "shell.execute_reply": "2022-04-08T10:12:27.100525Z",
          "shell.execute_reply.started": "2022-04-08T10:12:27.095959Z"
        },
        "id": "2qdUU-naB1gT",
        "trusted": true
      },
      "outputs": [],
      "source": [
        "#https://www.kaggle.com/datasets/muhammadwaqaskiyani/catvsdog"
      ]
    },
    {
      "cell_type": "code",
      "execution_count": null,
      "metadata": {
        "execution": {
          "iopub.execute_input": "2022-04-09T02:43:53.916784Z",
          "iopub.status.busy": "2022-04-09T02:43:53.916445Z",
          "iopub.status.idle": "2022-04-09T02:43:53.922920Z",
          "shell.execute_reply": "2022-04-09T02:43:53.922238Z",
          "shell.execute_reply.started": "2022-04-09T02:43:53.916734Z"
        },
        "id": "VElbs_UEB1gT",
        "trusted": true
      },
      "outputs": [],
      "source": [
        "import pandas as pd\n",
        "import numpy as np\n",
        "import matplotlib.pyplot as plt\n",
        "from keras.models import Sequential\n",
        "from keras.layers import Convolution2D\n",
        "from keras.layers import MaxPooling2D\n",
        "from keras.layers import Dense\n",
        "from keras.layers import Flatten"
      ]
    },
    {
      "cell_type": "code",
      "execution_count": null,
      "metadata": {
        "execution": {
          "iopub.execute_input": "2022-04-09T02:43:54.180009Z",
          "iopub.status.busy": "2022-04-09T02:43:54.179781Z",
          "iopub.status.idle": "2022-04-09T02:43:54.189799Z",
          "shell.execute_reply": "2022-04-09T02:43:54.189215Z",
          "shell.execute_reply.started": "2022-04-09T02:43:54.179981Z"
        },
        "id": "46zlUSf6B1gU",
        "trusted": true
      },
      "outputs": [],
      "source": [
        "#initializing the cnn\n",
        "classifier=Sequential()"
      ]
    },
    {
      "cell_type": "code",
      "execution_count": null,
      "metadata": {
        "execution": {
          "iopub.execute_input": "2022-04-09T02:43:54.967275Z",
          "iopub.status.busy": "2022-04-09T02:43:54.967013Z",
          "iopub.status.idle": "2022-04-09T02:43:54.973246Z",
          "shell.execute_reply": "2022-04-09T02:43:54.971120Z",
          "shell.execute_reply.started": "2022-04-09T02:43:54.967239Z"
        },
        "id": "8rrJUXfrB1gU",
        "trusted": true
      },
      "outputs": [],
      "source": [
        "from keras.preprocessing.image import ImageDataGenerator\n",
        "train_datagen = ImageDataGenerator(rescale = 1./255,\n",
        "                                   shear_range = 0.2,\n",
        "                                   zoom_range = 0.2,\n",
        "                                   horizontal_flip = True)"
      ]
    },
    {
      "cell_type": "code",
      "execution_count": null,
      "metadata": {
        "colab": {
          "base_uri": "https://localhost:8080/"
        },
        "execution": {
          "iopub.execute_input": "2022-04-09T02:43:56.349577Z",
          "iopub.status.busy": "2022-04-09T02:43:56.349030Z",
          "iopub.status.idle": "2022-04-09T02:43:57.091839Z",
          "shell.execute_reply": "2022-04-09T02:43:57.091211Z",
          "shell.execute_reply.started": "2022-04-09T02:43:56.349538Z"
        },
        "id": "ob2Wm6K2B1gV",
        "outputId": "b3ad97e4-ee80-4d98-8ecd-0ca6072e4327",
        "trusted": true
      },
      "outputs": [
        {
          "name": "stdout",
          "output_type": "stream",
          "text": [
            "Found 8020 images belonging to 2 classes.\n",
            "Found 2000 images belonging to 2 classes.\n"
          ]
        }
      ],
      "source": [
        "# Generating images for the Test set\n",
        "test_datagen = ImageDataGenerator(rescale = 1./255)\n",
        "# Creating training set\n",
        "training_set = train_datagen.flow_from_directory('/content/drive/MyDrive/dataset/training_set',\n",
        "                                                 target_size = (64, 64),\n",
        "                                                 batch_size = 32,\n",
        "                                                 class_mode = 'binary')\n",
        "# Creating the Test set\n",
        "test_set = test_datagen.flow_from_directory('/content/drive/MyDrive/dataset/test_set',\n",
        "                                            target_size = (64, 64),\n",
        "                                            batch_size = 32,\n",
        "                                            class_mode = 'binary')"
      ]
    },
    {
      "cell_type": "code",
      "execution_count": null,
      "metadata": {
        "execution": {
          "iopub.execute_input": "2022-04-09T02:43:58.900165Z",
          "iopub.status.busy": "2022-04-09T02:43:58.899903Z",
          "iopub.status.idle": "2022-04-09T02:43:58.952476Z",
          "shell.execute_reply": "2022-04-09T02:43:58.951828Z",
          "shell.execute_reply.started": "2022-04-09T02:43:58.900134Z"
        },
        "id": "CopQDrALB1gV",
        "trusted": true
      },
      "outputs": [],
      "source": [
        "classifier.add(Convolution2D(32,3,3,input_shape=(64,64,3),activation='relu'))\n",
        "classifier.add(MaxPooling2D(pool_size=(2,2)))\n",
        "classifier.add(Convolution2D(32,3,3,input_shape=(64,64,3),activation='relu'))\n",
        "classifier.add(MaxPooling2D(pool_size=(2,2)))\n",
        "classifier.add(Flatten())\n",
        "classifier.add(Dense(units = 128, activation='relu'))\n",
        "classifier.add((Dense(units=128,activation='relu')))\n",
        "classifier.add(Dense(units = 1, activation='sigmoid'))"
      ]
    },
    {
      "cell_type": "code",
      "execution_count": null,
      "metadata": {
        "colab": {
          "base_uri": "https://localhost:8080/"
        },
        "execution": {
          "iopub.execute_input": "2022-04-09T02:44:00.918771Z",
          "iopub.status.busy": "2022-04-09T02:44:00.918067Z",
          "iopub.status.idle": "2022-04-09T02:49:02.578610Z",
          "shell.execute_reply": "2022-04-09T02:49:02.577884Z",
          "shell.execute_reply.started": "2022-04-09T02:44:00.918733Z"
        },
        "id": "vs62NisCB1gW",
        "outputId": "4a1a3435-352a-4502-c2f8-1e875ad4ca2e",
        "trusted": true
      },
      "outputs": [
        {
          "name": "stderr",
          "output_type": "stream",
          "text": [
            "/usr/local/lib/python3.7/dist-packages/ipykernel_launcher.py:6: UserWarning: `Model.fit_generator` is deprecated and will be removed in a future version. Please use `Model.fit`, which supports generators.\n",
            "  \n"
          ]
        },
        {
          "name": "stdout",
          "output_type": "stream",
          "text": [
            "Epoch 1/15\n",
            "100/100 [==============================] - 810s 8s/step - loss: 0.6952 - binary_accuracy: 0.4934 - val_loss: 0.6932 - val_binary_accuracy: 0.5200\n",
            "Epoch 2/15\n",
            "100/100 [==============================] - 219s 2s/step - loss: 0.6933 - binary_accuracy: 0.5069 - val_loss: 0.6925 - val_binary_accuracy: 0.5475\n",
            "Epoch 3/15\n",
            "100/100 [==============================] - 143s 1s/step - loss: 0.6912 - binary_accuracy: 0.5166 - val_loss: 0.6833 - val_binary_accuracy: 0.5465\n",
            "Epoch 4/15\n",
            "100/100 [==============================] - 103s 1s/step - loss: 0.6820 - binary_accuracy: 0.5659 - val_loss: 0.6700 - val_binary_accuracy: 0.5860\n",
            "Epoch 5/15\n",
            "100/100 [==============================] - 74s 745ms/step - loss: 0.6775 - binary_accuracy: 0.5731 - val_loss: 0.6682 - val_binary_accuracy: 0.5940\n",
            "Epoch 6/15\n",
            "100/100 [==============================] - 59s 594ms/step - loss: 0.6732 - binary_accuracy: 0.5822 - val_loss: 0.6615 - val_binary_accuracy: 0.6015\n",
            "Epoch 7/15\n",
            "100/100 [==============================] - 47s 467ms/step - loss: 0.6700 - binary_accuracy: 0.5906 - val_loss: 0.6630 - val_binary_accuracy: 0.6025\n",
            "Epoch 8/15\n",
            "100/100 [==============================] - 41s 408ms/step - loss: 0.6622 - binary_accuracy: 0.6009 - val_loss: 0.6861 - val_binary_accuracy: 0.5940\n",
            "Epoch 9/15\n",
            "100/100 [==============================] - 36s 361ms/step - loss: 0.6623 - binary_accuracy: 0.5959 - val_loss: 0.6509 - val_binary_accuracy: 0.6130\n",
            "Epoch 10/15\n",
            "100/100 [==============================] - 35s 353ms/step - loss: 0.6642 - binary_accuracy: 0.5925 - val_loss: 0.6598 - val_binary_accuracy: 0.6265\n",
            "Epoch 11/15\n",
            "100/100 [==============================] - 33s 326ms/step - loss: 0.6513 - binary_accuracy: 0.6194 - val_loss: 0.6478 - val_binary_accuracy: 0.6295\n",
            "Epoch 12/15\n",
            "100/100 [==============================] - 33s 327ms/step - loss: 0.6519 - binary_accuracy: 0.6164 - val_loss: 0.6527 - val_binary_accuracy: 0.6230\n",
            "Epoch 13/15\n",
            "100/100 [==============================] - 32s 316ms/step - loss: 0.6382 - binary_accuracy: 0.6267 - val_loss: 0.6777 - val_binary_accuracy: 0.5960\n",
            "Epoch 14/15\n",
            "100/100 [==============================] - 32s 321ms/step - loss: 0.6489 - binary_accuracy: 0.6178 - val_loss: 0.6356 - val_binary_accuracy: 0.6455\n",
            "Epoch 15/15\n",
            "100/100 [==============================] - 31s 316ms/step - loss: 0.6371 - binary_accuracy: 0.6309 - val_loss: 0.6409 - val_binary_accuracy: 0.6370\n"
          ]
        },
        {
          "data": {
            "text/plain": [
              "<keras.callbacks.History at 0x7f86c059f3d0>"
            ]
          },
          "execution_count": 11,
          "metadata": {},
          "output_type": "execute_result"
        }
      ],
      "source": [
        "from keras import metrics\n",
        "classifier.compile(loss = 'binary_crossentropy',\n",
        "   optimizer = 'adam', metrics = [metrics.binary_accuracy])\n",
        "classifier.fit_generator(training_set, steps_per_epoch=100,\n",
        "                                      validation_data=test_set,\n",
        "                                     epochs=15, verbose=1)"
      ]
    },
    {
      "cell_type": "code",
      "execution_count": null,
      "metadata": {
        "execution": {
          "iopub.execute_input": "2022-04-09T02:49:02.580759Z",
          "iopub.status.busy": "2022-04-09T02:49:02.580427Z",
          "iopub.status.idle": "2022-04-09T02:49:02.588504Z",
          "shell.execute_reply": "2022-04-09T02:49:02.587381Z",
          "shell.execute_reply.started": "2022-04-09T02:49:02.580702Z"
        },
        "id": "GSXZEZLhB1gX",
        "trusted": true
      },
      "outputs": [],
      "source": [
        "def predict_image(imagepath, classifier):\n",
        "    predict = image.load_img(imagepath, target_size = (64, 64))\n",
        "    predict_modified = image.img_to_array(predict)\n",
        "    predict_modified = predict_modified / 255\n",
        "    predict_modified = np.expand_dims(predict_modified, axis = 0)\n",
        "    result = classifier.predict(predict_modified)\n",
        "    if result[0][0] >= 0.5:\n",
        "        prediction = 'dog'\n",
        "        probability = result[0][0]\n",
        "        #print(\"Prediction = \" + prediction)\n",
        "        print (\"probability = \" + str(probability))\n",
        "    else:\n",
        "        prediction = 'cat'\n",
        "        probability = 1 - result[0][0]\n",
        "        print (\"probability = \" + str(probability))\n",
        "    print(\"Prediction = \" + prediction)"
      ]
    },
    {
      "cell_type": "code",
      "execution_count": null,
      "metadata": {
        "colab": {
          "base_uri": "https://localhost:8080/"
        },
        "execution": {
          "iopub.execute_input": "2022-04-09T02:49:02.590103Z",
          "iopub.status.busy": "2022-04-09T02:49:02.589890Z",
          "iopub.status.idle": "2022-04-09T02:49:02.707563Z",
          "shell.execute_reply": "2022-04-09T02:49:02.706838Z",
          "shell.execute_reply.started": "2022-04-09T02:49:02.590076Z"
        },
        "id": "0lqH8Tq7B1gY",
        "outputId": "c2d54766-42a3-4342-d73d-d9b07f783dce",
        "trusted": true
      },
      "outputs": [
        {
          "name": "stdout",
          "output_type": "stream",
          "text": [
            "probability = 0.8455759\n",
            "Prediction = dog\n"
          ]
        }
      ],
      "source": [
        "from keras.preprocessing import image\n",
        "predict_image('/content/drive/MyDrive/dataset/single_prediction/cat_or_dog_1.jpg',classifier)"
      ]
    },
    {
      "cell_type": "code",
      "execution_count": null,
      "metadata": {
        "colab": {
          "base_uri": "https://localhost:8080/"
        },
        "execution": {
          "iopub.execute_input": "2022-04-09T02:49:02.709352Z",
          "iopub.status.busy": "2022-04-09T02:49:02.709097Z",
          "iopub.status.idle": "2022-04-09T02:49:02.798683Z",
          "shell.execute_reply": "2022-04-09T02:49:02.797818Z",
          "shell.execute_reply.started": "2022-04-09T02:49:02.709317Z"
        },
        "id": "7xBaTKmdB1gY",
        "outputId": "5cc40558-2792-47bb-9886-dfdc5518d6ed",
        "trusted": true
      },
      "outputs": [
        {
          "name": "stdout",
          "output_type": "stream",
          "text": [
            "probability = 0.6961743235588074\n",
            "Prediction = cat\n"
          ]
        }
      ],
      "source": [
        "predict_image('/content/drive/MyDrive/dataset/single_prediction/cat_or_dog_2.jpg',classifier)"
      ]
    },
    {
      "cell_type": "code",
      "execution_count": null,
      "metadata": {
        "id": "uLbP9_vvB1gY"
      },
      "outputs": [],
      "source": []
    }
  ],
  "metadata": {
    "colab": {
      "provenance": []
    },
    "kernelspec": {
      "display_name": "Python 3",
      "language": "python",
      "name": "python3"
    },
    "language_info": {
      "codemirror_mode": {
        "name": "ipython",
        "version": 3
      },
      "file_extension": ".py",
      "mimetype": "text/x-python",
      "name": "python",
      "nbconvert_exporter": "python",
      "pygments_lexer": "ipython3",
      "version": "3.7.12"
    }
  },
  "nbformat": 4,
  "nbformat_minor": 0
}
