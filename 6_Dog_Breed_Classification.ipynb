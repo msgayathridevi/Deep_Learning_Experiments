{
  "nbformat": 4,
  "nbformat_minor": 0,
  "metadata": {
    "colab": {
      "provenance": []
    },
    "kernelspec": {
      "name": "python3",
      "display_name": "Python 3"
    },
    "language_info": {
      "name": "python"
    }
  },
  "cells": [
    {
      "cell_type": "code",
      "execution_count": null,
      "metadata": {
        "id": "jyE9i5tGjG47"
      },
      "outputs": [],
      "source": [
        "import numpy as np\n",
        "import pandas as pd\n",
        "from keras.layers import Convolution2D\n",
        "from keras.layers import MaxPooling2D\n",
        "from keras.layers import Flatten\n",
        "from keras.layers import Dense\n",
        "from keras.models import Sequential\n",
        "from sklearn.model_selection import train_test_split"
      ]
    },
    {
      "cell_type": "code",
      "source": [
        "from google.colab import drive\n",
        "drive.mount('/content/drive')"
      ],
      "metadata": {
        "colab": {
          "base_uri": "https://localhost:8080/"
        },
        "id": "4sz1T4upmREs",
        "outputId": "fdd3dba3-107a-4030-9066-30a194255258"
      },
      "execution_count": null,
      "outputs": [
        {
          "output_type": "stream",
          "name": "stdout",
          "text": [
            "Drive already mounted at /content/drive; to attempt to forcibly remount, call drive.mount(\"/content/drive\", force_remount=True).\n"
          ]
        }
      ]
    },
    {
      "cell_type": "code",
      "source": [
        "classifier = Sequential()"
      ],
      "metadata": {
        "id": "h85nTAJdlcmY"
      },
      "execution_count": null,
      "outputs": []
    },
    {
      "cell_type": "code",
      "source": [
        "from keras.preprocessing.image import ImageDataGenerator\n",
        "\n",
        "train_datagen = ImageDataGenerator (rescale = 1./255,\n",
        "                                    shear_range = 0.2,\n",
        "                                    zoom_range = 0.2,\n",
        "                                    horizontal_flip=True,\n",
        "                                    validation_split=0.2)\n",
        "\n",
        "\n",
        "test_datagen = ImageDataGenerator (rescale = 1./255,\n",
        "                                   validation_split=0.2)"
      ],
      "metadata": {
        "id": "vWUhtUzXlgYz"
      },
      "execution_count": null,
      "outputs": []
    },
    {
      "cell_type": "code",
      "source": [
        "train = train_datagen.flow_from_directory('/content/drive/MyDrive/Deep Learning/Datasets/dog-breed-classification',\n",
        "                                          target_size=(64,64),\n",
        "                                          batch_size=32,\n",
        "                                          class_mode='categorical', classes=['Affenhuahua dog', 'Afgan Hound dog', 'Akita dog', 'Auggie dog'],\n",
        "                                          subset= \"training\")\n",
        "\n",
        "test = test_datagen.flow_from_directory('/content/drive/MyDrive/Deep Learning/Datasets/dog-breed-classification',\n",
        "                                          target_size=(64,64),\n",
        "                                          batch_size=32,\n",
        "                                          class_mode='categorical', classes=['Affenhuahua dog', 'Afgan Hound dog', 'Akita dog', 'Auggie dog'],\n",
        "                                          subset= \"validation\")"
      ],
      "metadata": {
        "colab": {
          "base_uri": "https://localhost:8080/"
        },
        "id": "3JAHFvqAnRR5",
        "outputId": "17de018b-f3c4-4cd1-a4ec-61891d0b77b3"
      },
      "execution_count": null,
      "outputs": [
        {
          "output_type": "stream",
          "name": "stdout",
          "text": [
            "Found 160 images belonging to 4 classes.\n",
            "Found 39 images belonging to 4 classes.\n"
          ]
        }
      ]
    },
    {
      "cell_type": "code",
      "source": [
        "classifier.add(Convolution2D(32,3,3, input_shape = (64,64,3), activation='relu'))\n",
        "classifier.add(MaxPooling2D(pool_size=(2,2)))\n",
        "\n",
        "classifier.add(Convolution2D(32,3,3, input_shape = (64,64,3), activation='relu'))\n",
        "classifier.add(MaxPooling2D(pool_size=(2,2)))\n",
        "\n",
        "classifier.add(Flatten())\n",
        "\n",
        "classifier.add(Dense(units = 128, activation = 'relu'))\n",
        "classifier.add(Dense(units = 128, activation = 'relu'))\n",
        "classifier.add(Dense(units = 4, activation = 'softmax'))"
      ],
      "metadata": {
        "id": "CWUKm3iYo-B2"
      },
      "execution_count": null,
      "outputs": []
    },
    {
      "cell_type": "code",
      "source": [
        "from keras import metrics\n",
        "classifier.compile(loss = 'categorical_crossentropy', optimizer = 'adam', metrics = [\"accuracy\"])\n",
        "classifier.fit(train, epochs=50, steps_per_epoch=5, validation_data = test)"
      ],
      "metadata": {
        "colab": {
          "base_uri": "https://localhost:8080/"
        },
        "id": "ziJtqxxj2k5I",
        "outputId": "d7f1b616-580b-4674-ea72-499a3abaf2e0"
      },
      "execution_count": null,
      "outputs": [
        {
          "output_type": "stream",
          "name": "stdout",
          "text": [
            "Epoch 1/50\n",
            "5/5 [==============================] - 5s 907ms/step - loss: 1.2272 - accuracy: 0.5063 - val_loss: 1.3333 - val_accuracy: 0.4103\n",
            "Epoch 2/50\n",
            "5/5 [==============================] - 4s 717ms/step - loss: 1.2026 - accuracy: 0.4938 - val_loss: 1.3345 - val_accuracy: 0.3846\n",
            "Epoch 3/50\n",
            "5/5 [==============================] - 4s 914ms/step - loss: 1.2053 - accuracy: 0.4750 - val_loss: 1.3284 - val_accuracy: 0.4615\n",
            "Epoch 4/50\n",
            "5/5 [==============================] - 4s 801ms/step - loss: 1.1957 - accuracy: 0.4688 - val_loss: 1.3704 - val_accuracy: 0.3333\n",
            "Epoch 5/50\n",
            "5/5 [==============================] - 4s 721ms/step - loss: 1.1463 - accuracy: 0.5063 - val_loss: 1.3165 - val_accuracy: 0.5128\n",
            "Epoch 6/50\n",
            "5/5 [==============================] - 4s 766ms/step - loss: 1.1346 - accuracy: 0.5750 - val_loss: 1.3221 - val_accuracy: 0.3846\n",
            "Epoch 7/50\n",
            "5/5 [==============================] - 4s 792ms/step - loss: 1.0914 - accuracy: 0.5500 - val_loss: 1.3342 - val_accuracy: 0.3846\n",
            "Epoch 8/50\n",
            "5/5 [==============================] - 3s 704ms/step - loss: 1.0807 - accuracy: 0.5938 - val_loss: 1.3075 - val_accuracy: 0.4103\n",
            "Epoch 9/50\n",
            "5/5 [==============================] - 4s 896ms/step - loss: 1.0603 - accuracy: 0.6062 - val_loss: 1.3053 - val_accuracy: 0.4103\n",
            "Epoch 10/50\n",
            "5/5 [==============================] - 4s 758ms/step - loss: 0.9951 - accuracy: 0.6125 - val_loss: 1.3121 - val_accuracy: 0.4872\n",
            "Epoch 11/50\n",
            "5/5 [==============================] - 4s 741ms/step - loss: 1.0325 - accuracy: 0.5813 - val_loss: 1.3144 - val_accuracy: 0.4872\n",
            "Epoch 12/50\n",
            "5/5 [==============================] - 4s 739ms/step - loss: 0.9862 - accuracy: 0.5938 - val_loss: 1.3263 - val_accuracy: 0.4872\n",
            "Epoch 13/50\n",
            "5/5 [==============================] - 4s 762ms/step - loss: 0.9998 - accuracy: 0.6250 - val_loss: 1.3422 - val_accuracy: 0.4359\n",
            "Epoch 14/50\n",
            "5/5 [==============================] - 4s 700ms/step - loss: 0.9758 - accuracy: 0.6125 - val_loss: 1.3544 - val_accuracy: 0.5128\n",
            "Epoch 15/50\n",
            "5/5 [==============================] - 4s 774ms/step - loss: 0.9733 - accuracy: 0.6187 - val_loss: 1.3492 - val_accuracy: 0.4103\n",
            "Epoch 16/50\n",
            "5/5 [==============================] - 4s 725ms/step - loss: 0.9157 - accuracy: 0.6250 - val_loss: 1.3661 - val_accuracy: 0.4359\n",
            "Epoch 17/50\n",
            "5/5 [==============================] - 4s 894ms/step - loss: 0.8517 - accuracy: 0.7000 - val_loss: 1.3552 - val_accuracy: 0.4103\n",
            "Epoch 18/50\n",
            "5/5 [==============================] - 4s 703ms/step - loss: 0.8764 - accuracy: 0.6125 - val_loss: 1.4348 - val_accuracy: 0.5128\n",
            "Epoch 19/50\n",
            "5/5 [==============================] - 4s 760ms/step - loss: 0.9132 - accuracy: 0.6187 - val_loss: 1.3900 - val_accuracy: 0.5128\n",
            "Epoch 20/50\n",
            "5/5 [==============================] - 4s 712ms/step - loss: 0.8656 - accuracy: 0.6375 - val_loss: 1.3584 - val_accuracy: 0.5641\n",
            "Epoch 21/50\n",
            "5/5 [==============================] - 4s 790ms/step - loss: 0.8538 - accuracy: 0.6500 - val_loss: 1.3165 - val_accuracy: 0.4615\n",
            "Epoch 22/50\n",
            "5/5 [==============================] - 4s 746ms/step - loss: 0.8209 - accuracy: 0.6687 - val_loss: 1.3251 - val_accuracy: 0.4872\n",
            "Epoch 23/50\n",
            "5/5 [==============================] - 4s 726ms/step - loss: 0.8076 - accuracy: 0.6625 - val_loss: 1.3312 - val_accuracy: 0.4615\n",
            "Epoch 24/50\n",
            "5/5 [==============================] - 4s 751ms/step - loss: 0.8175 - accuracy: 0.6875 - val_loss: 1.3185 - val_accuracy: 0.4872\n",
            "Epoch 25/50\n",
            "5/5 [==============================] - 4s 760ms/step - loss: 0.7913 - accuracy: 0.7312 - val_loss: 1.3652 - val_accuracy: 0.4872\n",
            "Epoch 26/50\n",
            "5/5 [==============================] - 4s 762ms/step - loss: 0.7884 - accuracy: 0.6562 - val_loss: 1.3505 - val_accuracy: 0.4872\n",
            "Epoch 27/50\n",
            "5/5 [==============================] - 4s 764ms/step - loss: 0.7561 - accuracy: 0.6938 - val_loss: 1.3202 - val_accuracy: 0.4872\n",
            "Epoch 28/50\n",
            "5/5 [==============================] - 4s 719ms/step - loss: 0.7600 - accuracy: 0.6438 - val_loss: 1.3222 - val_accuracy: 0.5128\n",
            "Epoch 29/50\n",
            "5/5 [==============================] - 4s 736ms/step - loss: 0.7742 - accuracy: 0.6875 - val_loss: 1.3332 - val_accuracy: 0.5128\n",
            "Epoch 30/50\n",
            "5/5 [==============================] - 4s 754ms/step - loss: 0.6842 - accuracy: 0.6875 - val_loss: 1.3895 - val_accuracy: 0.4872\n",
            "Epoch 31/50\n",
            "5/5 [==============================] - 4s 722ms/step - loss: 0.7427 - accuracy: 0.6938 - val_loss: 1.3881 - val_accuracy: 0.5128\n",
            "Epoch 32/50\n",
            "5/5 [==============================] - 4s 764ms/step - loss: 0.7116 - accuracy: 0.7250 - val_loss: 1.5008 - val_accuracy: 0.4872\n",
            "Epoch 33/50\n",
            "5/5 [==============================] - 4s 758ms/step - loss: 0.6954 - accuracy: 0.7375 - val_loss: 1.3632 - val_accuracy: 0.5385\n",
            "Epoch 34/50\n",
            "5/5 [==============================] - 4s 667ms/step - loss: 0.6909 - accuracy: 0.7188 - val_loss: 1.3079 - val_accuracy: 0.5897\n",
            "Epoch 35/50\n",
            "5/5 [==============================] - 4s 690ms/step - loss: 0.6900 - accuracy: 0.7312 - val_loss: 1.2603 - val_accuracy: 0.5385\n",
            "Epoch 36/50\n",
            "5/5 [==============================] - 4s 769ms/step - loss: 0.7125 - accuracy: 0.7125 - val_loss: 1.2756 - val_accuracy: 0.5385\n",
            "Epoch 37/50\n",
            "5/5 [==============================] - 4s 743ms/step - loss: 0.6525 - accuracy: 0.7312 - val_loss: 1.3229 - val_accuracy: 0.5128\n",
            "Epoch 38/50\n",
            "5/5 [==============================] - 4s 726ms/step - loss: 0.5957 - accuracy: 0.7750 - val_loss: 1.2995 - val_accuracy: 0.5641\n",
            "Epoch 39/50\n",
            "5/5 [==============================] - 4s 762ms/step - loss: 0.6318 - accuracy: 0.7563 - val_loss: 1.3235 - val_accuracy: 0.5385\n",
            "Epoch 40/50\n",
            "5/5 [==============================] - 4s 763ms/step - loss: 0.5862 - accuracy: 0.7812 - val_loss: 1.3350 - val_accuracy: 0.5128\n",
            "Epoch 41/50\n",
            "5/5 [==============================] - 4s 907ms/step - loss: 0.5929 - accuracy: 0.7812 - val_loss: 1.3025 - val_accuracy: 0.5385\n",
            "Epoch 42/50\n",
            "5/5 [==============================] - 4s 753ms/step - loss: 0.5838 - accuracy: 0.7875 - val_loss: 1.3437 - val_accuracy: 0.5128\n",
            "Epoch 43/50\n",
            "5/5 [==============================] - 4s 715ms/step - loss: 0.5915 - accuracy: 0.7875 - val_loss: 1.3208 - val_accuracy: 0.5641\n",
            "Epoch 44/50\n",
            "5/5 [==============================] - 4s 765ms/step - loss: 0.5544 - accuracy: 0.8125 - val_loss: 1.3475 - val_accuracy: 0.5385\n",
            "Epoch 45/50\n",
            "5/5 [==============================] - 4s 755ms/step - loss: 0.5765 - accuracy: 0.7625 - val_loss: 1.3721 - val_accuracy: 0.5897\n",
            "Epoch 46/50\n",
            "5/5 [==============================] - 4s 712ms/step - loss: 0.6065 - accuracy: 0.7437 - val_loss: 1.3522 - val_accuracy: 0.5641\n",
            "Epoch 47/50\n",
            "5/5 [==============================] - 4s 713ms/step - loss: 0.5587 - accuracy: 0.7563 - val_loss: 1.3200 - val_accuracy: 0.5385\n",
            "Epoch 48/50\n",
            "5/5 [==============================] - 4s 674ms/step - loss: 0.5568 - accuracy: 0.7875 - val_loss: 1.3812 - val_accuracy: 0.5385\n",
            "Epoch 49/50\n",
            "5/5 [==============================] - 4s 721ms/step - loss: 0.5028 - accuracy: 0.8375 - val_loss: 1.3682 - val_accuracy: 0.5385\n",
            "Epoch 50/50\n",
            "5/5 [==============================] - 4s 774ms/step - loss: 0.5241 - accuracy: 0.7875 - val_loss: 1.3470 - val_accuracy: 0.5641\n"
          ]
        },
        {
          "output_type": "execute_result",
          "data": {
            "text/plain": [
              "<keras.callbacks.History at 0x7f0b9abb6490>"
            ]
          },
          "metadata": {},
          "execution_count": 71
        }
      ]
    },
    {
      "cell_type": "code",
      "source": [
        "import cv2\n",
        "test_img_path = '/content/drive/MyDrive/Deep Learning/Datasets/dog-breed-classification/Auggie dog/Image_1.jpg'\n",
        "img = cv2.imread(test_img_path)\n",
        "resized_img = cv2.resize(img, (64,64)).reshape(-1,64,64,3)/255"
      ],
      "metadata": {
        "id": "MQRmKkZU2sjx"
      },
      "execution_count": null,
      "outputs": []
    },
    {
      "cell_type": "code",
      "source": [
        "import tensorflow as tf\n",
        "\n",
        "img = tf.keras.preprocessing.image.load_img(test_img_path)\n",
        "img = tf.keras.preprocessing.image.img_to_array(img)\n",
        "img = tf.keras.preprocessing.image.smart_resize(img, (64,64))\n",
        "img = tf.reshape(img, (-1,64,64,3))\n",
        "prediction = classifier.predict(img)\n",
        "print(prediction)"
      ],
      "metadata": {
        "colab": {
          "base_uri": "https://localhost:8080/"
        },
        "id": "VVn0S5OD6ZCS",
        "outputId": "d6de3c93-328d-4424-88d0-c51ae3eee053"
      },
      "execution_count": null,
      "outputs": [
        {
          "output_type": "stream",
          "name": "stdout",
          "text": [
            "[[0. 1. 0. 0.]]\n"
          ]
        }
      ]
    },
    {
      "cell_type": "code",
      "source": [
        "result = prediction.argmax()\n",
        "result"
      ],
      "metadata": {
        "colab": {
          "base_uri": "https://localhost:8080/"
        },
        "id": "Pyd4ZMeg7i_g",
        "outputId": "325e77bb-3947-4545-d8dc-95dd1c32c54d"
      },
      "execution_count": null,
      "outputs": [
        {
          "output_type": "execute_result",
          "data": {
            "text/plain": [
              "1"
            ]
          },
          "metadata": {},
          "execution_count": 90
        }
      ]
    },
    {
      "cell_type": "code",
      "source": [
        "classes=['Affenhuahua dog', 'Afgan Hound dog', 'Akita dog', 'Auggie dog']\n",
        "print(\"The actual class is: \"+classes[result])"
      ],
      "metadata": {
        "colab": {
          "base_uri": "https://localhost:8080/"
        },
        "id": "4SvpTgSc7pXN",
        "outputId": "45ba9bde-010e-497b-c45f-302e53453d7c"
      },
      "execution_count": null,
      "outputs": [
        {
          "output_type": "stream",
          "name": "stdout",
          "text": [
            "The actual class is: Afgan Hound dog\n"
          ]
        }
      ]
    }
  ]
}