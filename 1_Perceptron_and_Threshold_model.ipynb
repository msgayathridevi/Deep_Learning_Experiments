{
  "nbformat": 4,
  "nbformat_minor": 0,
  "metadata": {
    "colab": {
      "name": "dl perceptron and threshold function model for AND gate ",
      "provenance": [],
      "collapsed_sections": []
    },
    "kernelspec": {
      "name": "python3",
      "display_name": "Python 3"
    },
    "language_info": {
      "name": "python"
    }
  },
  "cells": [
    {
      "cell_type": "code",
      "execution_count": null,
      "metadata": {
        "id": "K2hhUjlxNSxG"
      },
      "outputs": [],
      "source": [
        "# Perceptron Model Code for AND Gate"
      ]
    },
    {
      "cell_type": "code",
      "source": [
        "# importing libraries\n",
        "import numpy as np\n",
        "\n",
        "# developing perceptron model\n",
        "def perceptronModel(x, w, b):\n",
        "  v = np.dot(w, x) + b\n",
        "  if v < 1.5:\n",
        "    return 0\n",
        "  else:\n",
        "    return 1\n",
        "\n",
        "# AND logic fuction\n",
        "# w1 = 1, w2 = 1, b = 0\n",
        "def AND_logicFunction(x):\n",
        "  w = np.array([1,1])\n",
        "  b = 0\n",
        "  return perceptronModel(x, w, b)\n",
        "\n",
        "# testing the Perceptron Model\n",
        "test1 = np.array([0, 1])\n",
        "test2 = np.array([1, 1])\n",
        "test3 = np.array([0, 0])\n",
        "test4 = np.array([1, 0])\n",
        "\n",
        "print(\"AND({}, {}) = {}\".format(0, 1, AND_logicFunction(test1)))\n",
        "print(\"AND({}, {}) = {}\".format(1, 1, AND_logicFunction(test2)))\n",
        "print(\"AND({}, {}) = {}\".format(0, 0, AND_logicFunction(test3)))\n",
        "print(\"AND({}, {}) = {}\".format(1, 0, AND_logicFunction(test4)))"
      ],
      "metadata": {
        "colab": {
          "base_uri": "https://localhost:8080/"
        },
        "id": "gDqKgVsqNYIc",
        "outputId": "ddad780f-f214-4948-e87b-5e7f4b4c37f4"
      },
      "execution_count": null,
      "outputs": [
        {
          "output_type": "stream",
          "name": "stdout",
          "text": [
            "AND(0, 1) = 0\n",
            "AND(1, 1) = 1\n",
            "AND(0, 0) = 0\n",
            "AND(1, 0) = 0\n"
          ]
        }
      ]
    },
    {
      "cell_type": "code",
      "source": [
        "# Thresholding Function Model code for AND Gate"
      ],
      "metadata": {
        "id": "JI7RhzfwNg0r"
      },
      "execution_count": null,
      "outputs": []
    },
    {
      "cell_type": "code",
      "source": [
        "# importing python library\n",
        "import numpy as np\n",
        "\n",
        "#design Threshold function model\n",
        "def ThresholdModel(x):\n",
        "  v = np.sum(x)\n",
        "  if v < 2:\n",
        "    return 0\n",
        "  else: \n",
        "    return 1\n",
        "\n",
        "# testing the perceptron model\n",
        "test1 = np.array([0 ,1])\n",
        "test2 = np.array([1 ,1])\n",
        "test3 = np.array([0 ,0])\n",
        "test4 = np.array([1 ,0])\n",
        "\n",
        "print(\"AND({}, {}) = {}\".format(0, 1, ThresholdModel(test1)))\n",
        "print(\"AND({}, {}) = {}\".format(1, 1, ThresholdModel(test2)))\n",
        "print(\"AND({}, {}) = {}\".format(0, 0, ThresholdModel(test3)))\n",
        "print(\"AND({}, {}) = {}\".format(1, 0, ThresholdModel(test4)))"
      ],
      "metadata": {
        "colab": {
          "base_uri": "https://localhost:8080/"
        },
        "id": "VFDL86dARfSr",
        "outputId": "067a3319-2680-493d-ad22-f3b984c6fa36"
      },
      "execution_count": null,
      "outputs": [
        {
          "output_type": "stream",
          "name": "stdout",
          "text": [
            "AND(0, 1) = 0\n",
            "AND(1, 1) = 1\n",
            "AND(0, 0) = 0\n",
            "AND(1, 0) = 0\n"
          ]
        }
      ]
    }
  ]
}